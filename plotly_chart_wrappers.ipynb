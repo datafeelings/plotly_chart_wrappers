{
 "cells": [
  {
   "cell_type": "markdown",
   "metadata": {},
   "source": [
    "### Plotly chart wrappers (python)\n",
    "    \n",
    "#### Motivation\n",
    "This is a set of functions wrapping the powerful customization options of Plotly charts into single-function calls with a few parameters that should produce good-looking charts covering at least 50% of the typical charting of a data analyst. The rationale behind writing the wrappers is twofold:  \n",
    "  \n",
    "1) To streamline analyst work and make the generation of lucid charts accessible even to analysts who are not familiar with the intricacies of Plotly's Python library  \n",
    "2) To set up a consistent visual style that would be easily customizable to fit any corporate design by pre-defining colors and font styles used in all the charts\n",
    "  \n",
    "#### Contents\n",
    "\n",
    "0) Style setup  \n",
    "1) Bar charts (stacked, grouped, percentage)  \n",
    "2) Line charts  \n",
    "3) Scatter plots  \n",
    "4) Box plots \n",
    "  \n",
    "#### Reference  \n",
    "  \n",
    "1) [Plotly reference](https://plot.ly/python/)  \n",
    "2) [IBM Sample Datasets](https://www.ibm.com/communities/analytics/watson-analytics-blog/guide-to-sample-datasets/)"
   ]
  },
  {
   "cell_type": "code",
   "execution_count": 1,
   "metadata": {},
   "outputs": [
    {
     "data": {
      "text/html": [
       "<script>requirejs.config({paths: { 'plotly': ['https://cdn.plot.ly/plotly-latest.min']},});if(!window.Plotly) {{require(['plotly'],function(plotly) {window.Plotly=plotly;});}}</script>"
      ],
      "text/vnd.plotly.v1+html": [
       "<script>requirejs.config({paths: { 'plotly': ['https://cdn.plot.ly/plotly-latest.min']},});if(!window.Plotly) {{require(['plotly'],function(plotly) {window.Plotly=plotly;});}}</script>"
      ]
     },
     "metadata": {},
     "output_type": "display_data"
    }
   ],
   "source": [
    "import pandas as pd\n",
    "import numpy as np\n",
    "\n",
    "import plotly.offline as py\n",
    "from plotly.graph_objs import *\n",
    "from plotly import tools\n",
    "from plotly.offline import download_plotlyjs, init_notebook_mode, plot, iplot\n",
    "\n",
    "init_notebook_mode(connected=True)\n",
    "%matplotlib inline"
   ]
  },
  {
   "cell_type": "code",
   "execution_count": 2,
   "metadata": {
    "collapsed": true
   },
   "outputs": [],
   "source": [
    "dat = pd.read_csv(\"https://community.watsonanalytics.com/wp-content/uploads/2015/03/WA_Fn-UseC_-Marketing-Campaign-Eff-UseC_-FastF.csv\")"
   ]
  },
  {
   "cell_type": "code",
   "execution_count": 3,
   "metadata": {},
   "outputs": [
    {
     "data": {
      "text/html": [
       "<div>\n",
       "<style scoped>\n",
       "    .dataframe tbody tr th:only-of-type {\n",
       "        vertical-align: middle;\n",
       "    }\n",
       "\n",
       "    .dataframe tbody tr th {\n",
       "        vertical-align: top;\n",
       "    }\n",
       "\n",
       "    .dataframe thead th {\n",
       "        text-align: right;\n",
       "    }\n",
       "</style>\n",
       "<table border=\"1\" class=\"dataframe\">\n",
       "  <thead>\n",
       "    <tr style=\"text-align: right;\">\n",
       "      <th></th>\n",
       "      <th>MarketID</th>\n",
       "      <th>MarketSize</th>\n",
       "      <th>LocationID</th>\n",
       "      <th>AgeOfStore</th>\n",
       "      <th>Promotion</th>\n",
       "      <th>week</th>\n",
       "      <th>SalesInThousands</th>\n",
       "    </tr>\n",
       "  </thead>\n",
       "  <tbody>\n",
       "    <tr>\n",
       "      <th>0</th>\n",
       "      <td>1</td>\n",
       "      <td>Medium</td>\n",
       "      <td>1</td>\n",
       "      <td>4</td>\n",
       "      <td>3</td>\n",
       "      <td>1</td>\n",
       "      <td>33.73</td>\n",
       "    </tr>\n",
       "    <tr>\n",
       "      <th>1</th>\n",
       "      <td>1</td>\n",
       "      <td>Medium</td>\n",
       "      <td>1</td>\n",
       "      <td>4</td>\n",
       "      <td>3</td>\n",
       "      <td>2</td>\n",
       "      <td>35.67</td>\n",
       "    </tr>\n",
       "    <tr>\n",
       "      <th>2</th>\n",
       "      <td>1</td>\n",
       "      <td>Medium</td>\n",
       "      <td>1</td>\n",
       "      <td>4</td>\n",
       "      <td>3</td>\n",
       "      <td>3</td>\n",
       "      <td>29.03</td>\n",
       "    </tr>\n",
       "    <tr>\n",
       "      <th>3</th>\n",
       "      <td>1</td>\n",
       "      <td>Medium</td>\n",
       "      <td>1</td>\n",
       "      <td>4</td>\n",
       "      <td>3</td>\n",
       "      <td>4</td>\n",
       "      <td>39.25</td>\n",
       "    </tr>\n",
       "    <tr>\n",
       "      <th>4</th>\n",
       "      <td>1</td>\n",
       "      <td>Medium</td>\n",
       "      <td>2</td>\n",
       "      <td>5</td>\n",
       "      <td>2</td>\n",
       "      <td>1</td>\n",
       "      <td>27.81</td>\n",
       "    </tr>\n",
       "  </tbody>\n",
       "</table>\n",
       "</div>"
      ],
      "text/plain": [
       "   MarketID MarketSize  LocationID  AgeOfStore  Promotion  week  \\\n",
       "0         1     Medium           1           4          3     1   \n",
       "1         1     Medium           1           4          3     2   \n",
       "2         1     Medium           1           4          3     3   \n",
       "3         1     Medium           1           4          3     4   \n",
       "4         1     Medium           2           5          2     1   \n",
       "\n",
       "   SalesInThousands  \n",
       "0             33.73  \n",
       "1             35.67  \n",
       "2             29.03  \n",
       "3             39.25  \n",
       "4             27.81  "
      ]
     },
     "execution_count": 3,
     "metadata": {},
     "output_type": "execute_result"
    }
   ],
   "source": [
    "dat.head()"
   ]
  },
  {
   "cell_type": "code",
   "execution_count": 13,
   "metadata": {},
   "outputs": [
    {
     "data": {
      "text/html": [
       "<div>\n",
       "<style scoped>\n",
       "    .dataframe tbody tr th:only-of-type {\n",
       "        vertical-align: middle;\n",
       "    }\n",
       "\n",
       "    .dataframe tbody tr th {\n",
       "        vertical-align: top;\n",
       "    }\n",
       "\n",
       "    .dataframe thead th {\n",
       "        text-align: right;\n",
       "    }\n",
       "</style>\n",
       "<table border=\"1\" class=\"dataframe\">\n",
       "  <thead>\n",
       "    <tr style=\"text-align: right;\">\n",
       "      <th></th>\n",
       "      <th>MarketID</th>\n",
       "      <th>LocationID</th>\n",
       "      <th>AgeOfStore</th>\n",
       "      <th>Promotion</th>\n",
       "      <th>week</th>\n",
       "      <th>SalesInThousands</th>\n",
       "    </tr>\n",
       "  </thead>\n",
       "  <tbody>\n",
       "    <tr>\n",
       "      <th>count</th>\n",
       "      <td>548.000000</td>\n",
       "      <td>548.000000</td>\n",
       "      <td>548.000000</td>\n",
       "      <td>548.000000</td>\n",
       "      <td>548.000000</td>\n",
       "      <td>548.000000</td>\n",
       "    </tr>\n",
       "    <tr>\n",
       "      <th>mean</th>\n",
       "      <td>5.715328</td>\n",
       "      <td>479.656934</td>\n",
       "      <td>8.503650</td>\n",
       "      <td>2.029197</td>\n",
       "      <td>2.500000</td>\n",
       "      <td>53.466204</td>\n",
       "    </tr>\n",
       "    <tr>\n",
       "      <th>std</th>\n",
       "      <td>2.877001</td>\n",
       "      <td>287.973679</td>\n",
       "      <td>6.638345</td>\n",
       "      <td>0.810729</td>\n",
       "      <td>1.119055</td>\n",
       "      <td>16.755216</td>\n",
       "    </tr>\n",
       "    <tr>\n",
       "      <th>min</th>\n",
       "      <td>1.000000</td>\n",
       "      <td>1.000000</td>\n",
       "      <td>1.000000</td>\n",
       "      <td>1.000000</td>\n",
       "      <td>1.000000</td>\n",
       "      <td>17.340000</td>\n",
       "    </tr>\n",
       "    <tr>\n",
       "      <th>25%</th>\n",
       "      <td>3.000000</td>\n",
       "      <td>216.000000</td>\n",
       "      <td>4.000000</td>\n",
       "      <td>1.000000</td>\n",
       "      <td>1.750000</td>\n",
       "      <td>42.545000</td>\n",
       "    </tr>\n",
       "    <tr>\n",
       "      <th>50%</th>\n",
       "      <td>6.000000</td>\n",
       "      <td>504.000000</td>\n",
       "      <td>7.000000</td>\n",
       "      <td>2.000000</td>\n",
       "      <td>2.500000</td>\n",
       "      <td>50.200000</td>\n",
       "    </tr>\n",
       "    <tr>\n",
       "      <th>75%</th>\n",
       "      <td>8.000000</td>\n",
       "      <td>708.000000</td>\n",
       "      <td>12.000000</td>\n",
       "      <td>3.000000</td>\n",
       "      <td>3.250000</td>\n",
       "      <td>60.477500</td>\n",
       "    </tr>\n",
       "    <tr>\n",
       "      <th>max</th>\n",
       "      <td>10.000000</td>\n",
       "      <td>920.000000</td>\n",
       "      <td>28.000000</td>\n",
       "      <td>3.000000</td>\n",
       "      <td>4.000000</td>\n",
       "      <td>99.650000</td>\n",
       "    </tr>\n",
       "  </tbody>\n",
       "</table>\n",
       "</div>"
      ],
      "text/plain": [
       "         MarketID  LocationID  AgeOfStore   Promotion        week  \\\n",
       "count  548.000000  548.000000  548.000000  548.000000  548.000000   \n",
       "mean     5.715328  479.656934    8.503650    2.029197    2.500000   \n",
       "std      2.877001  287.973679    6.638345    0.810729    1.119055   \n",
       "min      1.000000    1.000000    1.000000    1.000000    1.000000   \n",
       "25%      3.000000  216.000000    4.000000    1.000000    1.750000   \n",
       "50%      6.000000  504.000000    7.000000    2.000000    2.500000   \n",
       "75%      8.000000  708.000000   12.000000    3.000000    3.250000   \n",
       "max     10.000000  920.000000   28.000000    3.000000    4.000000   \n",
       "\n",
       "       SalesInThousands  \n",
       "count        548.000000  \n",
       "mean          53.466204  \n",
       "std           16.755216  \n",
       "min           17.340000  \n",
       "25%           42.545000  \n",
       "50%           50.200000  \n",
       "75%           60.477500  \n",
       "max           99.650000  "
      ]
     },
     "execution_count": 13,
     "metadata": {},
     "output_type": "execute_result"
    }
   ],
   "source": [
    "dat.describe()"
   ]
  },
  {
   "cell_type": "code",
   "execution_count": 21,
   "metadata": {
    "collapsed": true
   },
   "outputs": [],
   "source": [
    "sales_per_market_and_promo = dat.groupby([\"MarketID\",\"Promotion\"])[\"SalesInThousands\"].sum().reset_index()"
   ]
  },
  {
   "cell_type": "code",
   "execution_count": 22,
   "metadata": {},
   "outputs": [
    {
     "data": {
      "text/html": [
       "<div>\n",
       "<style scoped>\n",
       "    .dataframe tbody tr th:only-of-type {\n",
       "        vertical-align: middle;\n",
       "    }\n",
       "\n",
       "    .dataframe tbody tr th {\n",
       "        vertical-align: top;\n",
       "    }\n",
       "\n",
       "    .dataframe thead th {\n",
       "        text-align: right;\n",
       "    }\n",
       "</style>\n",
       "<table border=\"1\" class=\"dataframe\">\n",
       "  <thead>\n",
       "    <tr style=\"text-align: right;\">\n",
       "      <th></th>\n",
       "      <th>MarketID</th>\n",
       "      <th>Promotion</th>\n",
       "      <th>SalesInThousands</th>\n",
       "    </tr>\n",
       "  </thead>\n",
       "  <tbody>\n",
       "    <tr>\n",
       "      <th>0</th>\n",
       "      <td>1</td>\n",
       "      <td>1</td>\n",
       "      <td>814.38</td>\n",
       "    </tr>\n",
       "    <tr>\n",
       "      <th>1</th>\n",
       "      <td>1</td>\n",
       "      <td>2</td>\n",
       "      <td>603.04</td>\n",
       "    </tr>\n",
       "    <tr>\n",
       "      <th>2</th>\n",
       "      <td>1</td>\n",
       "      <td>3</td>\n",
       "      <td>407.87</td>\n",
       "    </tr>\n",
       "    <tr>\n",
       "      <th>3</th>\n",
       "      <td>2</td>\n",
       "      <td>1</td>\n",
       "      <td>262.40</td>\n",
       "    </tr>\n",
       "    <tr>\n",
       "      <th>4</th>\n",
       "      <td>2</td>\n",
       "      <td>3</td>\n",
       "      <td>1219.87</td>\n",
       "    </tr>\n",
       "  </tbody>\n",
       "</table>\n",
       "</div>"
      ],
      "text/plain": [
       "   MarketID  Promotion  SalesInThousands\n",
       "0         1          1            814.38\n",
       "1         1          2            603.04\n",
       "2         1          3            407.87\n",
       "3         2          1            262.40\n",
       "4         2          3           1219.87"
      ]
     },
     "execution_count": 22,
     "metadata": {},
     "output_type": "execute_result"
    }
   ],
   "source": [
    "sales_per_market_and_promo.head()"
   ]
  },
  {
   "cell_type": "code",
   "execution_count": null,
   "metadata": {
    "collapsed": true
   },
   "outputs": [],
   "source": []
  },
  {
   "cell_type": "markdown",
   "metadata": {
    "collapsed": true
   },
   "source": [
    "### 0. Style setup: Fonts and colors"
   ]
  },
  {
   "cell_type": "markdown",
   "metadata": {
    "collapsed": true
   },
   "source": [
    "### 1. Bar charts"
   ]
  },
  {
   "cell_type": "code",
   "execution_count": 109,
   "metadata": {},
   "outputs": [],
   "source": [
    "# Generate a discrete greys colorscale for \"the rest\"\n",
    "\n",
    "cmap = matplotlib.cm.get_cmap('Greys')\n",
    "\n",
    "def matplotlib_to_plotly(cmap, pl_entries):\n",
    "    \"\"\"\n",
    "    Generates a plotly colorscale list from a matplotlib colorscale\n",
    "    Based on: https://plot.ly/python/matplotlib-colorscales/#formatting-the-colormap\n",
    "    \"\"\"\n",
    "    try:\n",
    "        h = 1.0/(pl_entries-1)\n",
    "        pl_colorscale = []\n",
    "\n",
    "        for k in range(pl_entries):\n",
    "            C = list(map(np.uint8, np.array(cmap(k*h)[:3])*255))\n",
    "            pl_colorscale.append(['rgb'+str((C[0], C[1], C[2]))])\n",
    "\n",
    "        return pl_colorscale\n",
    "\n",
    "    except ZeroDivisionError:\n",
    "        return ['rgb(155, 155, 155)']\n"
   ]
  },
  {
   "cell_type": "code",
   "execution_count": 110,
   "metadata": {},
   "outputs": [
    {
     "data": {
      "text/plain": [
       "['rgb(155, 155, 155)']"
      ]
     },
     "execution_count": 110,
     "metadata": {},
     "output_type": "execute_result"
    }
   ],
   "source": [
    "matplotlib_to_plotly(cmap, 1)"
   ]
  },
  {
   "cell_type": "code",
   "execution_count": 114,
   "metadata": {},
   "outputs": [],
   "source": [
    "\n",
    "\n",
    "def generate_title_string(x,y,group):\n",
    "    return y + ' per ' + x + ' grouped by ' + group\n",
    "\n",
    "# General chart setup\n",
    "df = sales_per_market_and_promo\n",
    "x = \"Promotion\" # \"Promotion\"\n",
    "y = \"SalesInThousands\"\n",
    "group =  \"MarketID\"   # variable to make groups\n",
    "barmode = \"stack\"   # enum: \"group\", \"stack\", \"relative\" (for positive and negative values) \n",
    "\n",
    "# Accents and highlights\n",
    "accent_1 = 1\n",
    "accent_1_color = \"rgba(204,20,20,1)\"\n",
    "accent_2 = 2\n",
    "accent_2_color = \"rgba(20,20,204,1)\"\n",
    "\n",
    "\n",
    "# Chart and axis titles and axes titles\n",
    "title = generate_title_string(x,y,group) ## or fill title here\n",
    "xaxis_title = \"\"\n",
    "yaxis_title = \"\"\n",
    "\n",
    "\n",
    "groups = sorted(df[group].unique())\n",
    "rest = [item for item in groups if item not in [accent_1, accent_2]]\n"
   ]
  },
  {
   "cell_type": "code",
   "execution_count": 115,
   "metadata": {},
   "outputs": [
    {
     "data": {
      "text/plain": [
       "['rgba(204,204,204,1)', 'rgba(204,204,204,1)', 'rgba(204,204,204,1)']"
      ]
     },
     "execution_count": 115,
     "metadata": {},
     "output_type": "execute_result"
    }
   ],
   "source": [
    "list(np.repeat('rgba(204,204,204,1)',3))"
   ]
  },
  {
   "cell_type": "code",
   "execution_count": 116,
   "metadata": {},
   "outputs": [
    {
     "data": {
      "application/vnd.plotly.v1+json": {
       "data": [
        {
         "marker": {
          "color": [
           "rgb(255, 255, 255)",
           "rgb(255, 255, 255)",
           "rgb(255, 255, 255)"
          ]
         },
         "name": "3",
         "type": "bar",
         "x": [
          1,
          2,
          3
         ],
         "y": [
          2510.1200000000003,
          1910.21,
          3057.1800000000003
         ]
        },
        {
         "marker": {
          "color": [
           "rgb(255, 255, 255)",
           "rgb(255, 255, 255)",
           "rgb(255, 255, 255)"
          ]
         },
         "name": "4",
         "type": "bar",
         "x": [
          1,
          2,
          3
         ],
         "y": [
          940.85,
          812.97,
          208.46999999999997
         ]
        },
        {
         "marker": {
          "color": [
           "rgb(255, 255, 255)",
           "rgb(255, 255, 255)",
           "rgb(255, 255, 255)"
          ]
         },
         "name": "5",
         "type": "bar",
         "x": [
          1,
          2,
          3
         ],
         "y": [
          444.13,
          1469.37,
          1016.7799999999999
         ]
        },
        {
         "marker": {
          "color": [
           "rgb(255, 255, 255)",
           "rgb(255, 255, 255)",
           "rgb(255, 255, 255)"
          ]
         },
         "name": "6",
         "type": "bar",
         "x": [
          1,
          2,
          3
         ],
         "y": [
          813.3000000000002,
          782.31,
          588.24
         ]
        },
        {
         "marker": {
          "color": [
           "rgb(255, 255, 255)",
           "rgb(255, 255, 255)",
           "rgb(255, 255, 255)"
          ]
         },
         "name": "7",
         "type": "bar",
         "x": [
          1,
          2,
          3
         ],
         "y": [
          801.9399999999999,
          629.7900000000001,
          1236.79
         ]
        },
        {
         "marker": {
          "color": [
           "rgb(255, 255, 255)",
           "rgb(255, 255, 255)",
           "rgb(255, 255, 255)"
          ]
         },
         "name": "8",
         "type": "bar",
         "x": [
          1,
          2,
          3
         ],
         "y": [
          1022.8,
          339.98,
          986.9599999999998
         ]
        },
        {
         "marker": {
          "color": [
           "rgb(255, 255, 255)",
           "rgb(255, 255, 255)",
           "rgb(255, 255, 255)"
          ]
         },
         "name": "9",
         "type": "bar",
         "x": [
          1,
          2,
          3
         ],
         "y": [
          680.02,
          399.86,
          1037.75
         ]
        },
        {
         "marker": {
          "color": [
           "rgb(255, 255, 255)",
           "rgb(255, 255, 255)",
           "rgb(255, 255, 255)"
          ]
         },
         "name": "10",
         "type": "bar",
         "x": [
          1,
          2,
          3
         ],
         "y": [
          1703.0899999999997,
          1950.3999999999999,
          648.61
         ]
        },
        {
         "marker": {
          "color": [
           "rgba(204,20,20,1)",
           "rgba(204,20,20,1)",
           "rgba(204,20,20,1)"
          ]
         },
         "name": "1",
         "text": [
          814.3800000000001,
          603.0399999999998,
          407.87000000000006
         ],
         "textposition": "auto",
         "type": "bar",
         "x": [
          1,
          2,
          3
         ],
         "y": [
          814.3800000000001,
          603.0399999999998,
          407.87000000000006
         ]
        },
        {
         "marker": {
          "color": [
           "rgba(20,20,204,1)",
           "rgba(20,20,204,1)"
          ]
         },
         "name": "2",
         "text": [
          262.40000000000003,
          1219.8700000000001
         ],
         "textposition": "auto",
         "type": "bar",
         "x": [
          1,
          3
         ],
         "y": [
          262.40000000000003,
          1219.8700000000001
         ]
        }
       ],
       "layout": {
        "bargap": 0.15,
        "bargroupgap": 0.1,
        "barmode": "stack",
        "legend": {
         "bgcolor": "rgba(255, 255, 255, 0)",
         "bordercolor": "rgba(255, 255, 255, 0)",
         "orientation": "h"
        },
        "title": "SalesInThousands per Promotion grouped by MarketID",
        "xaxis": {
         "tickfont": {
          "color": "rgb(107, 107, 107)",
          "size": 14
         },
         "title": "Promotion"
        },
        "yaxis": {
         "tickfont": {
          "color": "rgb(107, 107, 107)",
          "size": 14
         },
         "title": "SalesInThousands",
         "titlefont": {
          "color": "rgb(107, 107, 107)",
          "size": 16
         }
        }
       }
      },
      "text/html": [
       "<div id=\"2d5b61e2-a430-40c8-8d2f-bcd8c7cea8b4\" style=\"height: 525px; width: 100%;\" class=\"plotly-graph-div\"></div><script type=\"text/javascript\">require([\"plotly\"], function(Plotly) { window.PLOTLYENV=window.PLOTLYENV || {};window.PLOTLYENV.BASE_URL=\"https://plot.ly\";Plotly.newPlot(\"2d5b61e2-a430-40c8-8d2f-bcd8c7cea8b4\", [{\"type\": \"bar\", \"x\": [1, 2, 3], \"y\": [2510.1200000000003, 1910.21, 3057.1800000000003], \"name\": \"3\", \"marker\": {\"color\": [\"rgb(255, 255, 255)\", \"rgb(255, 255, 255)\", \"rgb(255, 255, 255)\"]}}, {\"type\": \"bar\", \"x\": [1, 2, 3], \"y\": [940.85, 812.97, 208.46999999999997], \"name\": \"4\", \"marker\": {\"color\": [\"rgb(255, 255, 255)\", \"rgb(255, 255, 255)\", \"rgb(255, 255, 255)\"]}}, {\"type\": \"bar\", \"x\": [1, 2, 3], \"y\": [444.13, 1469.37, 1016.7799999999999], \"name\": \"5\", \"marker\": {\"color\": [\"rgb(255, 255, 255)\", \"rgb(255, 255, 255)\", \"rgb(255, 255, 255)\"]}}, {\"type\": \"bar\", \"x\": [1, 2, 3], \"y\": [813.3000000000002, 782.31, 588.24], \"name\": \"6\", \"marker\": {\"color\": [\"rgb(255, 255, 255)\", \"rgb(255, 255, 255)\", \"rgb(255, 255, 255)\"]}}, {\"type\": \"bar\", \"x\": [1, 2, 3], \"y\": [801.9399999999999, 629.7900000000001, 1236.79], \"name\": \"7\", \"marker\": {\"color\": [\"rgb(255, 255, 255)\", \"rgb(255, 255, 255)\", \"rgb(255, 255, 255)\"]}}, {\"type\": \"bar\", \"x\": [1, 2, 3], \"y\": [1022.8, 339.98, 986.9599999999998], \"name\": \"8\", \"marker\": {\"color\": [\"rgb(255, 255, 255)\", \"rgb(255, 255, 255)\", \"rgb(255, 255, 255)\"]}}, {\"type\": \"bar\", \"x\": [1, 2, 3], \"y\": [680.02, 399.86, 1037.75], \"name\": \"9\", \"marker\": {\"color\": [\"rgb(255, 255, 255)\", \"rgb(255, 255, 255)\", \"rgb(255, 255, 255)\"]}}, {\"type\": \"bar\", \"x\": [1, 2, 3], \"y\": [1703.0899999999997, 1950.3999999999999, 648.61], \"name\": \"10\", \"marker\": {\"color\": [\"rgb(255, 255, 255)\", \"rgb(255, 255, 255)\", \"rgb(255, 255, 255)\"]}}, {\"type\": \"bar\", \"x\": [1, 2, 3], \"y\": [814.3800000000001, 603.0399999999998, 407.87000000000006], \"name\": \"1\", \"text\": [814.3800000000001, 603.0399999999998, 407.87000000000006], \"textposition\": \"auto\", \"marker\": {\"color\": [\"rgba(204,20,20,1)\", \"rgba(204,20,20,1)\", \"rgba(204,20,20,1)\"]}}, {\"type\": \"bar\", \"x\": [1, 3], \"y\": [262.40000000000003, 1219.8700000000001], \"name\": \"2\", \"text\": [262.40000000000003, 1219.8700000000001], \"textposition\": \"auto\", \"marker\": {\"color\": [\"rgba(20,20,204,1)\", \"rgba(20,20,204,1)\"]}}], {\"title\": \"SalesInThousands per Promotion grouped by MarketID\", \"xaxis\": {\"title\": \"Promotion\", \"tickfont\": {\"size\": 14, \"color\": \"rgb(107, 107, 107)\"}}, \"yaxis\": {\"title\": \"SalesInThousands\", \"titlefont\": {\"size\": 16, \"color\": \"rgb(107, 107, 107)\"}, \"tickfont\": {\"size\": 14, \"color\": \"rgb(107, 107, 107)\"}}, \"legend\": {\"orientation\": \"h\", \"bgcolor\": \"rgba(255, 255, 255, 0)\", \"bordercolor\": \"rgba(255, 255, 255, 0)\"}, \"barmode\": \"stack\", \"bargap\": 0.15, \"bargroupgap\": 0.1}, {\"showLink\": true, \"linkText\": \"Export to plot.ly\"})});</script>"
      ],
      "text/vnd.plotly.v1+html": [
       "<div id=\"2d5b61e2-a430-40c8-8d2f-bcd8c7cea8b4\" style=\"height: 525px; width: 100%;\" class=\"plotly-graph-div\"></div><script type=\"text/javascript\">require([\"plotly\"], function(Plotly) { window.PLOTLYENV=window.PLOTLYENV || {};window.PLOTLYENV.BASE_URL=\"https://plot.ly\";Plotly.newPlot(\"2d5b61e2-a430-40c8-8d2f-bcd8c7cea8b4\", [{\"type\": \"bar\", \"x\": [1, 2, 3], \"y\": [2510.1200000000003, 1910.21, 3057.1800000000003], \"name\": \"3\", \"marker\": {\"color\": [\"rgb(255, 255, 255)\", \"rgb(255, 255, 255)\", \"rgb(255, 255, 255)\"]}}, {\"type\": \"bar\", \"x\": [1, 2, 3], \"y\": [940.85, 812.97, 208.46999999999997], \"name\": \"4\", \"marker\": {\"color\": [\"rgb(255, 255, 255)\", \"rgb(255, 255, 255)\", \"rgb(255, 255, 255)\"]}}, {\"type\": \"bar\", \"x\": [1, 2, 3], \"y\": [444.13, 1469.37, 1016.7799999999999], \"name\": \"5\", \"marker\": {\"color\": [\"rgb(255, 255, 255)\", \"rgb(255, 255, 255)\", \"rgb(255, 255, 255)\"]}}, {\"type\": \"bar\", \"x\": [1, 2, 3], \"y\": [813.3000000000002, 782.31, 588.24], \"name\": \"6\", \"marker\": {\"color\": [\"rgb(255, 255, 255)\", \"rgb(255, 255, 255)\", \"rgb(255, 255, 255)\"]}}, {\"type\": \"bar\", \"x\": [1, 2, 3], \"y\": [801.9399999999999, 629.7900000000001, 1236.79], \"name\": \"7\", \"marker\": {\"color\": [\"rgb(255, 255, 255)\", \"rgb(255, 255, 255)\", \"rgb(255, 255, 255)\"]}}, {\"type\": \"bar\", \"x\": [1, 2, 3], \"y\": [1022.8, 339.98, 986.9599999999998], \"name\": \"8\", \"marker\": {\"color\": [\"rgb(255, 255, 255)\", \"rgb(255, 255, 255)\", \"rgb(255, 255, 255)\"]}}, {\"type\": \"bar\", \"x\": [1, 2, 3], \"y\": [680.02, 399.86, 1037.75], \"name\": \"9\", \"marker\": {\"color\": [\"rgb(255, 255, 255)\", \"rgb(255, 255, 255)\", \"rgb(255, 255, 255)\"]}}, {\"type\": \"bar\", \"x\": [1, 2, 3], \"y\": [1703.0899999999997, 1950.3999999999999, 648.61], \"name\": \"10\", \"marker\": {\"color\": [\"rgb(255, 255, 255)\", \"rgb(255, 255, 255)\", \"rgb(255, 255, 255)\"]}}, {\"type\": \"bar\", \"x\": [1, 2, 3], \"y\": [814.3800000000001, 603.0399999999998, 407.87000000000006], \"name\": \"1\", \"text\": [814.3800000000001, 603.0399999999998, 407.87000000000006], \"textposition\": \"auto\", \"marker\": {\"color\": [\"rgba(204,20,20,1)\", \"rgba(204,20,20,1)\", \"rgba(204,20,20,1)\"]}}, {\"type\": \"bar\", \"x\": [1, 3], \"y\": [262.40000000000003, 1219.8700000000001], \"name\": \"2\", \"text\": [262.40000000000003, 1219.8700000000001], \"textposition\": \"auto\", \"marker\": {\"color\": [\"rgba(20,20,204,1)\", \"rgba(20,20,204,1)\"]}}], {\"title\": \"SalesInThousands per Promotion grouped by MarketID\", \"xaxis\": {\"title\": \"Promotion\", \"tickfont\": {\"size\": 14, \"color\": \"rgb(107, 107, 107)\"}}, \"yaxis\": {\"title\": \"SalesInThousands\", \"titlefont\": {\"size\": 16, \"color\": \"rgb(107, 107, 107)\"}, \"tickfont\": {\"size\": 14, \"color\": \"rgb(107, 107, 107)\"}}, \"legend\": {\"orientation\": \"h\", \"bgcolor\": \"rgba(255, 255, 255, 0)\", \"bordercolor\": \"rgba(255, 255, 255, 0)\"}, \"barmode\": \"stack\", \"bargap\": 0.15, \"bargroupgap\": 0.1}, {\"showLink\": true, \"linkText\": \"Export to plot.ly\"})});</script>"
      ]
     },
     "metadata": {},
     "output_type": "display_data"
    }
   ],
   "source": [
    "# Separate groups into accent_1, accent_2, rest\n",
    "\n",
    "groups = sorted(df[group].unique())\n",
    "rest = [item for item in groups if item not in [accent_1, accent_2]]\n",
    "\n",
    "\n",
    "traces = []\n",
    "\n",
    "# All other traces\n",
    "for item in rest:\n",
    "    \n",
    "    text = list(df[df[group]==item][y])\n",
    "    trace_idx = 0\n",
    "    scl = matplotlib_to_plotly(cmap, len(rest))\n",
    "    \n",
    "    traces.append(\n",
    "    Bar(x = df[df[group]==item][x],\n",
    "        y = df[df[group]==item][y],\n",
    "        name = str(item),\n",
    "        marker=dict(\n",
    "        color=list(np.repeat(scl[trace_idx],len(df[df[group]==item][y])))\n",
    "       )\n",
    "       )\n",
    "    )\n",
    "    trace_idx += 1\n",
    "\n",
    "# Append traces for both accents, the order can be important for rendering(?)\n",
    "# Only these accents get text overlay and custom colors\n",
    "\n",
    "# Accent 1\n",
    "traces.append(\n",
    "    Bar(x = df[df[group]==accent_1][x],\n",
    "        y = df[df[group]==accent_1][y],\n",
    "        name = str(accent_1),\n",
    "        text = df[df[group]==accent_1][y],textposition = 'auto',\n",
    "        marker=dict(color=list(np.repeat(accent_1_color,len(df[df[group]==accent_1][y]))))\n",
    "       )\n",
    "    )\n",
    "\n",
    "# Accent 2\n",
    "traces.append(\n",
    "    Bar(x = df[df[group]==accent_2][x],\n",
    "        y = df[df[group]==accent_2][y],\n",
    "        name = str(accent_2),\n",
    "        text = df[df[group]==accent_2][y],textposition = 'auto',\n",
    "        marker=dict(color=list(np.repeat(accent_2_color,len(df[df[group]==accent_2][y]))))\n",
    "       )\n",
    "    )\n",
    "\n",
    "    \n",
    "data = traces\n",
    "layout = Layout(\n",
    "    title=title,\n",
    "    xaxis=dict(\n",
    "        title=x,\n",
    "        tickfont=dict(\n",
    "            size=14,\n",
    "            color='rgb(107, 107, 107)'\n",
    "        )\n",
    "    ),\n",
    "    yaxis=dict(\n",
    "        title=y,\n",
    "        titlefont=dict(\n",
    "            size=16,\n",
    "            color='rgb(107, 107, 107)'\n",
    "        ),\n",
    "        tickfont=dict(\n",
    "            size=14,\n",
    "            color='rgb(107, 107, 107)'\n",
    "        )\n",
    "    ),\n",
    "    legend=dict(orientation=\"h\",\n",
    "        bgcolor='rgba(255, 255, 255, 0)',\n",
    "        bordercolor='rgba(255, 255, 255, 0)'\n",
    "    )\n",
    "    ,barmode=barmode,bargap=0.15,bargroupgap=0.1)\n",
    "\n",
    "fig = Figure(data=data, layout=layout)\n",
    "py.iplot(fig, filename='grouped-bar')"
   ]
  },
  {
   "cell_type": "code",
   "execution_count": 64,
   "metadata": {},
   "outputs": [
    {
     "data": {
      "text/html": [
       "<div>\n",
       "<style scoped>\n",
       "    .dataframe tbody tr th:only-of-type {\n",
       "        vertical-align: middle;\n",
       "    }\n",
       "\n",
       "    .dataframe tbody tr th {\n",
       "        vertical-align: top;\n",
       "    }\n",
       "\n",
       "    .dataframe thead th {\n",
       "        text-align: right;\n",
       "    }\n",
       "</style>\n",
       "<table border=\"1\" class=\"dataframe\">\n",
       "  <thead>\n",
       "    <tr style=\"text-align: right;\">\n",
       "      <th></th>\n",
       "      <th>MarketID</th>\n",
       "      <th>Promotion</th>\n",
       "      <th>SalesInThousands</th>\n",
       "    </tr>\n",
       "  </thead>\n",
       "  <tbody>\n",
       "    <tr>\n",
       "      <th>0</th>\n",
       "      <td>1</td>\n",
       "      <td>1</td>\n",
       "      <td>814.38</td>\n",
       "    </tr>\n",
       "  </tbody>\n",
       "</table>\n",
       "</div>"
      ],
      "text/plain": [
       "   MarketID  Promotion  SalesInThousands\n",
       "0         1          1            814.38"
      ]
     },
     "execution_count": 64,
     "metadata": {},
     "output_type": "execute_result"
    }
   ],
   "source": [
    "df[(df[\"Promotion\"]==1) & (df[\"MarketID\"]==1)]"
   ]
  },
  {
   "cell_type": "code",
   "execution_count": null,
   "metadata": {
    "collapsed": true
   },
   "outputs": [],
   "source": []
  }
 ],
 "metadata": {
  "kernelspec": {
   "display_name": "Python 3",
   "language": "python",
   "name": "python3"
  },
  "language_info": {
   "codemirror_mode": {
    "name": "ipython",
    "version": 3
   },
   "file_extension": ".py",
   "mimetype": "text/x-python",
   "name": "python",
   "nbconvert_exporter": "python",
   "pygments_lexer": "ipython3",
   "version": "3.6.3"
  }
 },
 "nbformat": 4,
 "nbformat_minor": 2
}
